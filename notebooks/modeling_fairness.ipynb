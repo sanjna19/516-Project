{
 "cells": [
  {
   "cell_type": "markdown",
   "metadata": {},
   "source": []
  },
  {
   "cell_type": "code",
   "execution_count": 1,
   "metadata": {},
   "outputs": [],
   "source": [
    "import os\n",
    "import sys\n",
    "\n",
    "src_path = r\"D:\\SEM 4\\CS516\\516 Project\\src\"\n",
    "if src_path not in sys.path:\n",
    "    sys.path.append(src_path)"
   ]
  },
  {
   "cell_type": "code",
   "execution_count": 2,
   "metadata": {},
   "outputs": [
    {
     "name": "stderr",
     "output_type": "stream",
     "text": [
      "c:\\Users\\sanjn\\.virtualenvs\\signal-protocol-implementation-main-fZnRVkg2\\Lib\\site-packages\\inFairness\\utils\\ndcg.py:37: FutureWarning: We've integrated functorch into PyTorch. As the final step of the integration, `functorch.vmap` is deprecated as of PyTorch 2.0 and will be deleted in a future version of PyTorch >= 2.3. Please use `torch.vmap` instead; see the PyTorch 2.0 release notes and/or the `torch.func` migration guide for more details https://pytorch.org/docs/main/func.migrating.html\n",
      "  vect_normalized_discounted_cumulative_gain = vmap(\n",
      "c:\\Users\\sanjn\\.virtualenvs\\signal-protocol-implementation-main-fZnRVkg2\\Lib\\site-packages\\inFairness\\utils\\ndcg.py:48: FutureWarning: We've integrated functorch into PyTorch. As the final step of the integration, `functorch.vmap` is deprecated as of PyTorch 2.0 and will be deleted in a future version of PyTorch >= 2.3. Please use `torch.vmap` instead; see the PyTorch 2.0 release notes and/or the `torch.func` migration guide for more details https://pytorch.org/docs/main/func.migrating.html\n",
      "  monte_carlo_vect_ndcg = vmap(vect_normalized_discounted_cumulative_gain, in_dims=(0,))\n"
     ]
    }
   ],
   "source": [
    "import pandas as pd\n",
    "from data_loader import load_dataset\n",
    "from modeling import train_logistic_regression, evaluate_model, train_random_forest\n",
    "from fairness_metrics import print_group_rates, disparate_impact, equal_opportunity\n",
    "from preprocess import apply_reweighing"
   ]
  },
  {
   "cell_type": "code",
   "execution_count": 3,
   "metadata": {},
   "outputs": [],
   "source": [
    "# Load data\n",
    "df = load_dataset(\"../data/cleaned_dataset.csv\")"
   ]
  },
  {
   "cell_type": "markdown",
   "metadata": {},
   "source": [
    "# Define features and target\n",
    "features = ['Gender_encoded', 'Age_encoded', 'EdLevel', 'YearsCode', 'YearsCodePro', 'ComputerSkills', 'PreviousSalary']\n",
    "X = pd.get_dummies(df[features], drop_first=True)\n",
    "y = df['Employment'].astype(int)\n",
    "\n",
    "# Train and evaluate Random Forest model\n",
    "model, X_test, y_test, y_pred = train_random_forest(X, y)\n",
    "evaluate_model(y_test, y_pred)\n",
    "\n",
    "# Fairness metrics\n",
    "print_group_rates(df, 'Gender')\n",
    "print_group_rates(df, 'Age')\n",
    "print_group_rates(df, 'EdLevel')\n",
    "\n",
    "disparate_impact(df, 'Woman', 'Man', 'Gender')\n",
    "disparate_impact(df, '>35', '<35', 'Age')\n",
    "\n",
    "equal_opportunity(y_test.reset_index(drop=True), pd.Series(y_pred), ['Man', 'Woman', 'NonBinary'], 'Gender', df.reset_index(drop=True))"
   ]
  },
  {
   "cell_type": "markdown",
   "metadata": {},
   "source": [
    "Using a preprocessing mitigation strategy - AIF360’s Reweighing"
   ]
  },
  {
   "cell_type": "code",
   "execution_count": 4,
   "metadata": {},
   "outputs": [
    {
     "name": "stdout",
     "output_type": "stream",
     "text": [
      "Accuracy: 0.8777621489178274\n",
      "Classification Report:\n",
      "               precision    recall  f1-score   support\n",
      "\n",
      "           0       0.28      0.03      0.05      2571\n",
      "           1       0.89      0.99      0.93     19468\n",
      "\n",
      "    accuracy                           0.88     22039\n",
      "   macro avg       0.58      0.51      0.49     22039\n",
      "weighted avg       0.81      0.88      0.83     22039\n",
      "\n",
      "\n",
      "Selection Rates by Gender:\n",
      "0: 0.88\n",
      "2: 0.91\n",
      "1: 0.87\n",
      "\n",
      "Selection Rates by Age:\n",
      "<35: 0.90\n",
      ">35: 0.85\n",
      "\n",
      "Selection Rates by EdLevel:\n",
      "Master: 0.88\n",
      "Undergraduate: 0.90\n",
      "PhD: 0.90\n",
      "Other: 0.84\n",
      "NoHigherEd: 0.80\n",
      "\n",
      "Disparate Impact (Woman/Man): 0.00\n",
      "\n",
      "Disparate Impact (>35/<35): 0.95\n",
      "\n",
      "Equal Opportunity by group:\n",
      "Man: TPR = 0.00\n",
      "Woman: TPR = 0.00\n",
      "NonBinary: TPR = 0.00\n"
     ]
    }
   ],
   "source": [
    "# Apply AIF360 Reweighing\n",
    "df = apply_reweighing(df, protected_attr='Gender', label_col='Employment')\n",
    "\n",
    "# Define features and target\n",
    "features = ['Gender_encoded', 'Age_encoded', 'EdLevel', 'YearsCode', 'YearsCodePro', 'ComputerSkills', 'PreviousSalary']\n",
    "X = pd.get_dummies(df[features], drop_first=True)\n",
    "y = df['Employment'].astype(int)\n",
    "sample_weights = df['instance_weight']\n",
    "\n",
    "# Train and evaluate model with sample weights from AIF360\n",
    "model, X_test, y_test, y_pred = train_random_forest(X, y, sample_weights)\n",
    "evaluate_model(y_test, y_pred)\n",
    "\n",
    "# Fairness metrics\n",
    "print_group_rates(df, 'Gender')\n",
    "print_group_rates(df, 'Age')\n",
    "print_group_rates(df, 'EdLevel')\n",
    "\n",
    "disparate_impact(df, 'Woman', 'Man', 'Gender')\n",
    "disparate_impact(df, '>35', '<35', 'Age')\n",
    "\n",
    "equal_opportunity(\n",
    "    y_test.reset_index(drop=True),\n",
    "    pd.Series(y_pred),\n",
    "    ['Man', 'Woman', 'NonBinary'],\n",
    "    'Gender',\n",
    "    df.reset_index(drop=True)\n",
    ")"
   ]
  },
  {
   "cell_type": "code",
   "execution_count": null,
   "metadata": {},
   "outputs": [],
   "source": []
  }
 ],
 "metadata": {
  "kernelspec": {
   "display_name": "signal-protocol-implementation-main-fZnRVkg2",
   "language": "python",
   "name": "python3"
  },
  "language_info": {
   "codemirror_mode": {
    "name": "ipython",
    "version": 3
   },
   "file_extension": ".py",
   "mimetype": "text/x-python",
   "name": "python",
   "nbconvert_exporter": "python",
   "pygments_lexer": "ipython3",
   "version": "3.11.9"
  }
 },
 "nbformat": 4,
 "nbformat_minor": 2
}
