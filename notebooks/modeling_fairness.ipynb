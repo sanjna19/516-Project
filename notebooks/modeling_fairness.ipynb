{
 "cells": [
  {
   "cell_type": "markdown",
   "metadata": {},
   "source": []
  },
  {
   "cell_type": "code",
   "execution_count": 1,
   "metadata": {},
   "outputs": [],
   "source": [
    "import os\n",
    "import sys\n",
    "\n",
    "src_path = r\"D:\\SEM 4\\CS516\\516 Project\\src\"\n",
    "if src_path not in sys.path:\n",
    "    sys.path.append(src_path)"
   ]
  },
  {
   "cell_type": "code",
   "execution_count": 2,
   "metadata": {},
   "outputs": [],
   "source": [
    "import pandas as pd\n",
    "from data_loader import load_dataset\n",
    "from modeling import train_logistic_regression, evaluate_model\n",
    "from fairness_metrics import print_group_rates, disparate_impact, equal_opportunity"
   ]
  },
  {
   "cell_type": "code",
   "execution_count": 3,
   "metadata": {},
   "outputs": [
    {
     "name": "stdout",
     "output_type": "stream",
     "text": [
      "Accuracy: 0.883433912609465\n",
      "Classification Report:\n",
      "               precision    recall  f1-score   support\n",
      "\n",
      "           0       0.75      0.00      0.00      2571\n",
      "           1       0.88      1.00      0.94     19468\n",
      "\n",
      "    accuracy                           0.88     22039\n",
      "   macro avg       0.82      0.50      0.47     22039\n",
      "weighted avg       0.87      0.88      0.83     22039\n",
      "\n",
      "\n",
      "Selection Rates by Gender:\n",
      "Man: 0.88\n",
      "Woman: 0.91\n",
      "NonBinary: 0.87\n",
      "\n",
      "Selection Rates by Age:\n",
      "<35: 0.90\n",
      ">35: 0.85\n",
      "\n",
      "Selection Rates by EdLevel:\n",
      "Master: 0.88\n",
      "Undergraduate: 0.90\n",
      "PhD: 0.90\n",
      "Other: 0.84\n",
      "NoHigherEd: 0.80\n",
      "\n",
      "Disparate Impact (Woman/Man): 1.03\n",
      "\n",
      "Disparate Impact (>35/<35): 0.95\n",
      "\n",
      "Equal Opportunity by group:\n",
      "Man: TPR = 1.00\n",
      "Woman: TPR = 1.00\n",
      "NonBinary: TPR = 1.00\n"
     ]
    }
   ],
   "source": [
    "# Load data\n",
    "df = load_dataset(\"../data/cleaned_dataset.csv\")\n",
    "\n",
    "# Define features and target\n",
    "features = ['Gender_encoded', 'Age_encoded', 'EdLevel', 'YearsCode', 'YearsCodePro', 'ComputerSkills', 'PreviousSalary']\n",
    "X = pd.get_dummies(df[features], drop_first=True)\n",
    "y = df['Employment'].astype(int)\n",
    "\n",
    "# Train and evaluate model\n",
    "model, X_test, y_test, y_pred = train_logistic_regression(X, y)\n",
    "evaluate_model(y_test, y_pred)\n",
    "\n",
    "# Fairness metrics\n",
    "print_group_rates(df, 'Gender')\n",
    "print_group_rates(df, 'Age')\n",
    "print_group_rates(df, 'EdLevel')\n",
    "\n",
    "disparate_impact(df, 'Woman', 'Man', 'Gender')\n",
    "disparate_impact(df, '>35', '<35', 'Age')\n",
    "\n",
    "equal_opportunity(y_test.reset_index(drop=True), pd.Series(y_pred), ['Man', 'Woman', 'NonBinary'], 'Gender', df.reset_index(drop=True))\n",
    "\n"
   ]
  },
  {
   "cell_type": "code",
   "execution_count": null,
   "metadata": {},
   "outputs": [],
   "source": []
  }
 ],
 "metadata": {
  "kernelspec": {
   "display_name": "signal-protocol-implementation-main-fZnRVkg2",
   "language": "python",
   "name": "python3"
  },
  "language_info": {
   "codemirror_mode": {
    "name": "ipython",
    "version": 3
   },
   "file_extension": ".py",
   "mimetype": "text/x-python",
   "name": "python",
   "nbconvert_exporter": "python",
   "pygments_lexer": "ipython3",
   "version": "3.11.9"
  }
 },
 "nbformat": 4,
 "nbformat_minor": 2
}
