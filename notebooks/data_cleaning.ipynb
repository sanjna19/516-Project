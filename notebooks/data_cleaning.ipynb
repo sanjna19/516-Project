{
 "cells": [
  {
   "cell_type": "markdown",
   "metadata": {},
   "source": [
    "Data Preparation & Cleaning"
   ]
  },
  {
   "cell_type": "code",
   "execution_count": 19,
   "metadata": {},
   "outputs": [],
   "source": [
    "import os\n",
    "import sys\n",
    "\n",
    "src_path = r\"D:\\SEM 4\\CS516\\516 Project\\src\"\n",
    "if src_path not in sys.path:\n",
    "    sys.path.append(src_path)\n",
    "\n",
    "from data_loader import load_dataset, save_dataset\n",
    "from preprocess import handle_missing_values, encode_columns, bucket_age"
   ]
  },
  {
   "cell_type": "code",
   "execution_count": 21,
   "metadata": {},
   "outputs": [
    {
     "name": "stdout",
     "output_type": "stream",
     "text": [
      "Original shape: (73462, 15)\n"
     ]
    }
   ],
   "source": [
    "# 1. Load data\n",
    "file_path = r'../data/stackoverflow_full.csv'  \n",
    "df = load_dataset(file_path)\n",
    "print(\"Original shape:\", df.shape)"
   ]
  },
  {
   "cell_type": "code",
   "execution_count": 23,
   "metadata": {},
   "outputs": [
    {
     "name": "stdout",
     "output_type": "stream",
     "text": [
      "After dropping missing values: (73462, 15)\n"
     ]
    }
   ],
   "source": [
    "# 2. Handle missing values\n",
    "required_cols = ['Gender', 'Age', 'EdLevel', 'Employment']\n",
    "df_clean = handle_missing_values(df, required_cols)\n",
    "\n",
    "print(\"After dropping missing values:\", df_clean.shape)"
   ]
  },
  {
   "cell_type": "code",
   "execution_count": 26,
   "metadata": {},
   "outputs": [],
   "source": [
    "# 3. Encode categorical variables\n",
    "encode_cols = ['Gender', 'Employment', 'Age']\n",
    "df_encoded, encoders = encode_columns(df_clean, encode_cols)"
   ]
  },
  {
   "cell_type": "code",
   "execution_count": 28,
   "metadata": {},
   "outputs": [
    {
     "name": "stdout",
     "output_type": "stream",
     "text": [
      "Data preprocessing complete. Cleaned file saved.\n"
     ]
    }
   ],
   "source": [
    "# 5. Save cleaned dataset\n",
    "save_dataset(df_encoded, '../data/cleaned_dataset.csv')\n",
    "print(\"Data preprocessing complete. Cleaned file saved.\")\n"
   ]
  }
 ],
 "metadata": {
  "kernelspec": {
   "display_name": "signal-protocol-implementation-main-fZnRVkg2",
   "language": "python",
   "name": "python3"
  },
  "language_info": {
   "codemirror_mode": {
    "name": "ipython",
    "version": 3
   },
   "file_extension": ".py",
   "mimetype": "text/x-python",
   "name": "python",
   "nbconvert_exporter": "python",
   "pygments_lexer": "ipython3",
   "version": "3.11.9"
  }
 },
 "nbformat": 4,
 "nbformat_minor": 2
}
